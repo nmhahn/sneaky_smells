{
 "cells": [
  {
   "cell_type": "markdown",
   "metadata": {},
   "source": [
    "# Libraries"
   ]
  },
  {
   "cell_type": "code",
   "execution_count": 29,
   "metadata": {},
   "outputs": [],
   "source": [
    "import pandas as pd\n",
    "import json"
   ]
  },
  {
   "cell_type": "markdown",
   "metadata": {},
   "source": [
    "# Analysis"
   ]
  },
  {
   "cell_type": "code",
   "execution_count": 30,
   "metadata": {},
   "outputs": [],
   "source": [
    "prob_dist = 'uniform' #['exponential','poisson','uniform_int','uniform']\n",
    "\n",
    "f = open(f'data/correct_data/{prob_dist}.json')\n",
    "correct_data = json.load(f)\n",
    "\n",
    "f = open(f'data/raw_data/{prob_dist}.json')\n",
    "raw_data = json.load(f)\n",
    "\n",
    "tabular_data1 = pd.read_csv(f'data/tabular_data/{prob_dist}_batch1.csv', header=0, index_col=0)\n",
    "tabular_data2 = pd.read_csv(f'data/tabular_data/{prob_dist}_batch2.csv', header=0, index_col=0)\n",
    "tabular_data = pd.concat([tabular_data1, tabular_data2])"
   ]
  },
  {
   "cell_type": "code",
   "execution_count": 31,
   "metadata": {},
   "outputs": [],
   "source": [
    "# correct_data"
   ]
  },
  {
   "cell_type": "code",
   "execution_count": 32,
   "metadata": {},
   "outputs": [],
   "source": [
    "# raw_data"
   ]
  },
  {
   "cell_type": "code",
   "execution_count": 33,
   "metadata": {},
   "outputs": [
    {
     "data": {
      "text/plain": [
       "batch           int64\n",
       "batch_size      int64\n",
       "num_type       object\n",
       "prob_dist      object\n",
       "params         object\n",
       "values        float64\n",
       "smells         object\n",
       "dtype: object"
      ]
     },
     "execution_count": 33,
     "metadata": {},
     "output_type": "execute_result"
    }
   ],
   "source": [
    "tabular_data1.dtypes"
   ]
  },
  {
   "cell_type": "code",
   "execution_count": 34,
   "metadata": {},
   "outputs": [
    {
     "data": {
      "text/plain": [
       "batch           int64\n",
       "batch_size      int64\n",
       "num_type       object\n",
       "prob_dist      object\n",
       "params         object\n",
       "values        float64\n",
       "smells         object\n",
       "dtype: object"
      ]
     },
     "execution_count": 34,
     "metadata": {},
     "output_type": "execute_result"
    }
   ],
   "source": [
    "tabular_data2.dtypes"
   ]
  },
  {
   "cell_type": "code",
   "execution_count": 35,
   "metadata": {},
   "outputs": [
    {
     "data": {
      "text/html": [
       "<div>\n",
       "<style scoped>\n",
       "    .dataframe tbody tr th:only-of-type {\n",
       "        vertical-align: middle;\n",
       "    }\n",
       "\n",
       "    .dataframe tbody tr th {\n",
       "        vertical-align: top;\n",
       "    }\n",
       "\n",
       "    .dataframe thead th {\n",
       "        text-align: right;\n",
       "    }\n",
       "</style>\n",
       "<table border=\"1\" class=\"dataframe\">\n",
       "  <thead>\n",
       "    <tr style=\"text-align: right;\">\n",
       "      <th></th>\n",
       "      <th>batch</th>\n",
       "      <th>batch_size</th>\n",
       "      <th>num_type</th>\n",
       "      <th>prob_dist</th>\n",
       "      <th>params</th>\n",
       "      <th>values</th>\n",
       "      <th>smells</th>\n",
       "    </tr>\n",
       "  </thead>\n",
       "  <tbody>\n",
       "    <tr>\n",
       "      <th>0</th>\n",
       "      <td>0</td>\n",
       "      <td>1000</td>\n",
       "      <td>float</td>\n",
       "      <td>uniform</td>\n",
       "      <td>{'a': -1, 'b': 1}</td>\n",
       "      <td>0.2511</td>\n",
       "      <td>[[952, 'dummy_value', 0.02668088018810296], [7...</td>\n",
       "    </tr>\n",
       "    <tr>\n",
       "      <th>1</th>\n",
       "      <td>0</td>\n",
       "      <td>1000</td>\n",
       "      <td>float</td>\n",
       "      <td>uniform</td>\n",
       "      <td>{'a': -1, 'b': 1}</td>\n",
       "      <td>1.1610</td>\n",
       "      <td>[[952, 'dummy_value', 0.02668088018810296], [7...</td>\n",
       "    </tr>\n",
       "    <tr>\n",
       "      <th>2</th>\n",
       "      <td>0</td>\n",
       "      <td>1000</td>\n",
       "      <td>float</td>\n",
       "      <td>uniform</td>\n",
       "      <td>{'a': -1, 'b': 1}</td>\n",
       "      <td>-0.9997</td>\n",
       "      <td>[[952, 'dummy_value', 0.02668088018810296], [7...</td>\n",
       "    </tr>\n",
       "    <tr>\n",
       "      <th>3</th>\n",
       "      <td>0</td>\n",
       "      <td>1000</td>\n",
       "      <td>float</td>\n",
       "      <td>uniform</td>\n",
       "      <td>{'a': -1, 'b': 1}</td>\n",
       "      <td>-0.0930</td>\n",
       "      <td>[[952, 'dummy_value', 0.02668088018810296], [7...</td>\n",
       "    </tr>\n",
       "    <tr>\n",
       "      <th>4</th>\n",
       "      <td>0</td>\n",
       "      <td>1000</td>\n",
       "      <td>float</td>\n",
       "      <td>uniform</td>\n",
       "      <td>{'a': -1, 'b': 1}</td>\n",
       "      <td>-0.5597</td>\n",
       "      <td>[[952, 'dummy_value', 0.02668088018810296], [7...</td>\n",
       "    </tr>\n",
       "    <tr>\n",
       "      <th>...</th>\n",
       "      <td>...</td>\n",
       "      <td>...</td>\n",
       "      <td>...</td>\n",
       "      <td>...</td>\n",
       "      <td>...</td>\n",
       "      <td>...</td>\n",
       "      <td>...</td>\n",
       "    </tr>\n",
       "    <tr>\n",
       "      <th>995</th>\n",
       "      <td>1</td>\n",
       "      <td>1000</td>\n",
       "      <td>float</td>\n",
       "      <td>uniform</td>\n",
       "      <td>{'a': -10, 'b': 10}</td>\n",
       "      <td>-0.6023</td>\n",
       "      <td>[[952, 'dummy_value', 0.02668088018810296], [7...</td>\n",
       "    </tr>\n",
       "    <tr>\n",
       "      <th>996</th>\n",
       "      <td>1</td>\n",
       "      <td>1000</td>\n",
       "      <td>float</td>\n",
       "      <td>uniform</td>\n",
       "      <td>{'a': -10, 'b': 10}</td>\n",
       "      <td>-6.1333</td>\n",
       "      <td>[[952, 'dummy_value', 0.02668088018810296], [7...</td>\n",
       "    </tr>\n",
       "    <tr>\n",
       "      <th>997</th>\n",
       "      <td>1</td>\n",
       "      <td>1000</td>\n",
       "      <td>float</td>\n",
       "      <td>uniform</td>\n",
       "      <td>{'a': -10, 'b': 10}</td>\n",
       "      <td>7.4034</td>\n",
       "      <td>[[952, 'dummy_value', 0.02668088018810296], [7...</td>\n",
       "    </tr>\n",
       "    <tr>\n",
       "      <th>998</th>\n",
       "      <td>1</td>\n",
       "      <td>1000</td>\n",
       "      <td>float</td>\n",
       "      <td>uniform</td>\n",
       "      <td>{'a': -10, 'b': 10}</td>\n",
       "      <td>-9.3490</td>\n",
       "      <td>[[952, 'dummy_value', 0.02668088018810296], [7...</td>\n",
       "    </tr>\n",
       "    <tr>\n",
       "      <th>999</th>\n",
       "      <td>1</td>\n",
       "      <td>1000</td>\n",
       "      <td>float</td>\n",
       "      <td>uniform</td>\n",
       "      <td>{'a': -10, 'b': 10}</td>\n",
       "      <td>9.8813</td>\n",
       "      <td>[[952, 'dummy_value', 0.02668088018810296], [7...</td>\n",
       "    </tr>\n",
       "  </tbody>\n",
       "</table>\n",
       "<p>2000 rows × 7 columns</p>\n",
       "</div>"
      ],
      "text/plain": [
       "     batch  batch_size num_type prob_dist               params  values  \\\n",
       "0        0        1000    float   uniform    {'a': -1, 'b': 1}  0.2511   \n",
       "1        0        1000    float   uniform    {'a': -1, 'b': 1}  1.1610   \n",
       "2        0        1000    float   uniform    {'a': -1, 'b': 1} -0.9997   \n",
       "3        0        1000    float   uniform    {'a': -1, 'b': 1} -0.0930   \n",
       "4        0        1000    float   uniform    {'a': -1, 'b': 1} -0.5597   \n",
       "..     ...         ...      ...       ...                  ...     ...   \n",
       "995      1        1000    float   uniform  {'a': -10, 'b': 10} -0.6023   \n",
       "996      1        1000    float   uniform  {'a': -10, 'b': 10} -6.1333   \n",
       "997      1        1000    float   uniform  {'a': -10, 'b': 10}  7.4034   \n",
       "998      1        1000    float   uniform  {'a': -10, 'b': 10} -9.3490   \n",
       "999      1        1000    float   uniform  {'a': -10, 'b': 10}  9.8813   \n",
       "\n",
       "                                                smells  \n",
       "0    [[952, 'dummy_value', 0.02668088018810296], [7...  \n",
       "1    [[952, 'dummy_value', 0.02668088018810296], [7...  \n",
       "2    [[952, 'dummy_value', 0.02668088018810296], [7...  \n",
       "3    [[952, 'dummy_value', 0.02668088018810296], [7...  \n",
       "4    [[952, 'dummy_value', 0.02668088018810296], [7...  \n",
       "..                                                 ...  \n",
       "995  [[952, 'dummy_value', 0.02668088018810296], [7...  \n",
       "996  [[952, 'dummy_value', 0.02668088018810296], [7...  \n",
       "997  [[952, 'dummy_value', 0.02668088018810296], [7...  \n",
       "998  [[952, 'dummy_value', 0.02668088018810296], [7...  \n",
       "999  [[952, 'dummy_value', 0.02668088018810296], [7...  \n",
       "\n",
       "[2000 rows x 7 columns]"
      ]
     },
     "execution_count": 35,
     "metadata": {},
     "output_type": "execute_result"
    }
   ],
   "source": [
    "tabular_data"
   ]
  },
  {
   "cell_type": "code",
   "execution_count": 36,
   "metadata": {},
   "outputs": [
    {
     "data": {
      "text/plain": [
       "prob_dist  batch  params             \n",
       "uniform    0      {'a': -1, 'b': 1}      1000\n",
       "           1      {'a': -10, 'b': 10}    1000\n",
       "Name: count, dtype: int64"
      ]
     },
     "execution_count": 36,
     "metadata": {},
     "output_type": "execute_result"
    }
   ],
   "source": [
    "tabular_data[['prob_dist','batch','params']].value_counts()"
   ]
  },
  {
   "cell_type": "code",
   "execution_count": 37,
   "metadata": {},
   "outputs": [
    {
     "data": {
      "text/plain": [
       "batch  smell            \n",
       "1      missing_value        48\n",
       "2      missing_value        48\n",
       "1      suspect_precision    39\n",
       "2      suspect_precision    39\n",
       "1      extreme_value        35\n",
       "2      extreme_value        35\n",
       "1      duplicate_value      33\n",
       "2      duplicate_value      33\n",
       "1      dummy_value          27\n",
       "2      dummy_value          27\n",
       "1      number_as_string     24\n",
       "2      number_as_string     24\n",
       "1      integer_as_float      2\n",
       "2      integer_as_float      2\n",
       "Name: count, dtype: int64"
      ]
     },
     "execution_count": 37,
     "metadata": {},
     "output_type": "execute_result"
    }
   ],
   "source": [
    "df_smells_raw_1 = pd.DataFrame(raw_data[0]['smells'], columns=['index','smell','prop'])\n",
    "df_smells_raw_1['batch'] = 1\n",
    "df_smells_raw_2 = pd.DataFrame(raw_data[1]['smells'], columns=['index','smell','prop'])\n",
    "df_smells_raw_2['batch'] = 2\n",
    "\n",
    "df_smells_raw = pd.concat([df_smells_raw_1,df_smells_raw_2])\n",
    "df_smells_raw[['batch','smell']].value_counts()"
   ]
  },
  {
   "cell_type": "code",
   "execution_count": 38,
   "metadata": {},
   "outputs": [
    {
     "data": {
      "text/html": [
       "<div>\n",
       "<style scoped>\n",
       "    .dataframe tbody tr th:only-of-type {\n",
       "        vertical-align: middle;\n",
       "    }\n",
       "\n",
       "    .dataframe tbody tr th {\n",
       "        vertical-align: top;\n",
       "    }\n",
       "\n",
       "    .dataframe thead th {\n",
       "        text-align: right;\n",
       "    }\n",
       "</style>\n",
       "<table border=\"1\" class=\"dataframe\">\n",
       "  <thead>\n",
       "    <tr style=\"text-align: right;\">\n",
       "      <th></th>\n",
       "      <th>index</th>\n",
       "      <th>smell</th>\n",
       "      <th>prop</th>\n",
       "      <th>batch</th>\n",
       "    </tr>\n",
       "  </thead>\n",
       "  <tbody>\n",
       "    <tr>\n",
       "      <th>0</th>\n",
       "      <td>952</td>\n",
       "      <td>dummy_value</td>\n",
       "      <td>0.026681</td>\n",
       "      <td>1</td>\n",
       "    </tr>\n",
       "    <tr>\n",
       "      <th>1</th>\n",
       "      <td>755</td>\n",
       "      <td>dummy_value</td>\n",
       "      <td>0.026681</td>\n",
       "      <td>1</td>\n",
       "    </tr>\n",
       "    <tr>\n",
       "      <th>2</th>\n",
       "      <td>318</td>\n",
       "      <td>dummy_value</td>\n",
       "      <td>0.026681</td>\n",
       "      <td>1</td>\n",
       "    </tr>\n",
       "    <tr>\n",
       "      <th>3</th>\n",
       "      <td>370</td>\n",
       "      <td>dummy_value</td>\n",
       "      <td>0.026681</td>\n",
       "      <td>1</td>\n",
       "    </tr>\n",
       "    <tr>\n",
       "      <th>4</th>\n",
       "      <td>496</td>\n",
       "      <td>dummy_value</td>\n",
       "      <td>0.026681</td>\n",
       "      <td>1</td>\n",
       "    </tr>\n",
       "    <tr>\n",
       "      <th>...</th>\n",
       "      <td>...</td>\n",
       "      <td>...</td>\n",
       "      <td>...</td>\n",
       "      <td>...</td>\n",
       "    </tr>\n",
       "    <tr>\n",
       "      <th>203</th>\n",
       "      <td>927</td>\n",
       "      <td>suspect_precision</td>\n",
       "      <td>0.042710</td>\n",
       "      <td>2</td>\n",
       "    </tr>\n",
       "    <tr>\n",
       "      <th>204</th>\n",
       "      <td>21</td>\n",
       "      <td>suspect_precision</td>\n",
       "      <td>0.042710</td>\n",
       "      <td>2</td>\n",
       "    </tr>\n",
       "    <tr>\n",
       "      <th>205</th>\n",
       "      <td>878</td>\n",
       "      <td>suspect_precision</td>\n",
       "      <td>0.042710</td>\n",
       "      <td>2</td>\n",
       "    </tr>\n",
       "    <tr>\n",
       "      <th>206</th>\n",
       "      <td>823</td>\n",
       "      <td>integer_as_float</td>\n",
       "      <td>0.032473</td>\n",
       "      <td>2</td>\n",
       "    </tr>\n",
       "    <tr>\n",
       "      <th>207</th>\n",
       "      <td>634</td>\n",
       "      <td>integer_as_float</td>\n",
       "      <td>0.032473</td>\n",
       "      <td>2</td>\n",
       "    </tr>\n",
       "  </tbody>\n",
       "</table>\n",
       "<p>416 rows × 4 columns</p>\n",
       "</div>"
      ],
      "text/plain": [
       "     index              smell      prop  batch\n",
       "0      952        dummy_value  0.026681      1\n",
       "1      755        dummy_value  0.026681      1\n",
       "2      318        dummy_value  0.026681      1\n",
       "3      370        dummy_value  0.026681      1\n",
       "4      496        dummy_value  0.026681      1\n",
       "..     ...                ...       ...    ...\n",
       "203    927  suspect_precision  0.042710      2\n",
       "204     21  suspect_precision  0.042710      2\n",
       "205    878  suspect_precision  0.042710      2\n",
       "206    823   integer_as_float  0.032473      2\n",
       "207    634   integer_as_float  0.032473      2\n",
       "\n",
       "[416 rows x 4 columns]"
      ]
     },
     "execution_count": 38,
     "metadata": {},
     "output_type": "execute_result"
    }
   ],
   "source": [
    "df_smells_raw"
   ]
  }
 ],
 "metadata": {
  "kernelspec": {
   "display_name": "data_smells_simulation",
   "language": "python",
   "name": "python3"
  },
  "language_info": {
   "codemirror_mode": {
    "name": "ipython",
    "version": 3
   },
   "file_extension": ".py",
   "mimetype": "text/x-python",
   "name": "python",
   "nbconvert_exporter": "python",
   "pygments_lexer": "ipython3",
   "version": "3.10.0"
  }
 },
 "nbformat": 4,
 "nbformat_minor": 2
}
